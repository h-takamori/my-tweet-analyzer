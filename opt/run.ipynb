{
 "cells": [
  {
   "cell_type": "markdown",
   "id": "89d236a4-5179-43ce-bc9d-76503ab50130",
   "metadata": {
    "tags": []
   },
   "source": [
    "<br>\n",
    "サイドメニューのFile BrowserからTwitterのアーカイブ（ZIPファイル）を「アップロード」（実際にはローカルコピーであり、外部ネットワークへの送信ではありません）した後、上にある早送りボタン（「Restart Kernel and Run All Cells...」）を押してすべてのセルを実行してください。しばらく待つと、この直下のセルの下に入力欄が表示されますので、アップロードしたファイル名を入力してください。アップロード先はrun.ipynbと同じフォルダを想定しています。"
   ]
  },
  {
   "cell_type": "code",
   "execution_count": null,
   "id": "1f64b909-4de9-4ac4-ad4f-2d58be90fcb9",
   "metadata": {
    "tags": []
   },
   "outputs": [],
   "source": [
    "import os\n",
    "\n",
    "for _ in range(5):\n",
    "    file_name = input()\n",
    "    if os.path.isfile(file_name):\n",
    "        break\n",
    "    print(\"入力されたファイル名のファイルが存在しません。正しいファイル名を入力してください。\")\n",
    "    # コピペミスの可能性の通知\n",
    "    if '.' not in file_name:\n",
    "        print()\n",
    "        print(\"もしかしたら拡張子が抜けているせいかもしれません。確認してみてください。\")\n",
    "else:\n",
    "    print()\n",
    "    print(\"入力されたファイル名のファイルが存在しませんでした。ファイル名を確認した上でこのセルを再実行し、正しいファイル名を入力してください。\")"
   ]
  },
  {
   "cell_type": "markdown",
   "id": "d02b0237-24f2-4985-bce0-d4e8be52f42a",
   "metadata": {
    "tags": []
   },
   "source": [
    "この上に表示される入力欄にアップロードしたファイル名を入力してください。ファイル名が正しく入力されていれば分析結果がページ最下部に表示されます。"
   ]
  },
  {
   "cell_type": "code",
   "execution_count": null,
   "id": "ddbac78f-7b74-4e1b-abf1-30f0f8e3b264",
   "metadata": {
    "tags": []
   },
   "outputs": [],
   "source": [
    "import os\n",
    "import shutil\n",
    "\n",
    "unzipped_directory_name = os.path.splitext(file_name)[0]\n",
    "shutil.unpack_archive(file_name, unzipped_directory_name)\n",
    "shutil.copy(os.path.join(f'{unzipped_directory_name}{os.sep}data{os.sep}tweets.js'), '.')"
   ]
  },
  {
   "cell_type": "code",
   "execution_count": null,
   "id": "1cd40431-de4c-4f84-bd5a-0895ee6ca262",
   "metadata": {},
   "outputs": [],
   "source": [
    "from pathlib import Path\n",
    " \n",
    "read_path = Path('tweets.js')\n",
    "write_path = Path('tweets.py')\n",
    " \n",
    "# 読み込み\n",
    "content = read_path.read_text(encoding='utf-8')\n",
    "\n",
    "# 置換\n",
    "content = content.replace('window.YTD.tweets.part0', 'value', 1)\n",
    "content = content.replace('true', 'True')\n",
    "content = content.replace('false', 'False')\n",
    "\n",
    "# 書き出し\n",
    "write_path.write_text(content, encoding='utf-8')\n",
    "\n",
    "from tweets import value\n",
    "\n",
    "print(len(value))"
   ]
  }
 ],
 "metadata": {
  "kernelspec": {
   "display_name": "Python 3 (ipykernel)",
   "language": "python",
   "name": "python3"
  },
  "language_info": {
   "codemirror_mode": {
    "name": "ipython",
    "version": 3
   },
   "file_extension": ".py",
   "mimetype": "text/x-python",
   "name": "python",
   "nbconvert_exporter": "python",
   "pygments_lexer": "ipython3",
   "version": "3.10.9"
  }
 },
 "nbformat": 4,
 "nbformat_minor": 5
}
