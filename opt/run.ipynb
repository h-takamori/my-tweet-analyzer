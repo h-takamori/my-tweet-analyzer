{
 "cells": [
  {
   "cell_type": "markdown",
   "id": "89d236a4-5179-43ce-bc9d-76503ab50130",
   "metadata": {
    "tags": []
   },
   "source": [
    "<br>\n",
    "サイドメニューのFile BrowserからTwitterのアーカイブ（ZIPファイル）をtmpディレクトリに「アップロード」（実際にはローカルコピーであり、外部ネットワークへの送信ではありません）した後、上にある早送りボタン（「Restart Kernel and Run All Cells...」）を押してすべてのセルを実行してください。しばらく待つと、この直下のセルのさらに下に入力欄が表示されますので、アップロードしたファイル名（パスではなくファイル名のみ。ディレクトリ名は不要）を入力してください。"
   ]
  },
  {
   "cell_type": "code",
   "execution_count": null,
   "id": "1f64b909-4de9-4ac4-ad4f-2d58be90fcb9",
   "metadata": {
    "tags": []
   },
   "outputs": [],
   "source": [
    "import pathlib\n",
    "import shutil\n",
    "\n",
    "tmp = pathlib.Path('tmp')\n",
    "\n",
    "for _ in range(5):\n",
    "    file_name = input()\n",
    "    file_path = tmp.joinpath(file_name)\n",
    "\n",
    "    if file_path.is_file():\n",
    "        break\n",
    "\n",
    "    print(\"入力されたファイル名のファイルが存在しません。アーカイブ（ZIPファイル）をtmpディレクトリにアップロードし、正しいファイル名を入力してください。\")\n",
    "\n",
    "    # コピペミスの可能性の通知\n",
    "    if '.' not in file_name:\n",
    "        print()\n",
    "        print(\"もしかしたら拡張子が抜けているせいかもしれません。確認してみてください。\")\n",
    "else:\n",
    "    print()\n",
    "    print(\"入力されたファイル名のファイルが存在しませんでした。アーカイブ（ZIPファイル）をtmpディレクトリにアップロードし、ファイル名を確認した上でこのセルを再実行し、正しいファイル名を入力してください。\")\n",
    "\n",
    "unzipped_directory_name = file_path.stem\n",
    "unzipped_directory_path = tmp.joinpath(unzipped_directory_name)\n",
    "shutil.unpack_archive(file_path, unzipped_directory_path)"
   ]
  },
  {
   "cell_type": "markdown",
   "id": "d02b0237-24f2-4985-bce0-d4e8be52f42a",
   "metadata": {
    "tags": []
   },
   "source": [
    "この上に表示される入力欄にアップロードしたファイル名を入力してください。ファイル名が正しく入力されていれば分析結果がページ最下部に表示されます。"
   ]
  },
  {
   "cell_type": "code",
   "execution_count": null,
   "id": "55c319ad",
   "metadata": {
    "tags": []
   },
   "outputs": [],
   "source": [
    "import pathlib\n",
    "import json\n",
    "\n",
    "read_path = pathlib.Path().joinpath(unzipped_directory_path, 'data', 'tweets.js')\n",
    "write_path = tmp.joinpath('tweets.json')\n",
    "\n",
    "content = read_path.read_text(encoding='utf-8')\n",
    "content = content.replace('window.YTD.tweets.part0 = ', '', 1)\n",
    "write_path.write_text(content, encoding='utf-8')\n",
    "\n",
    "with open(write_path, encoding='utf-8') as f:\n",
    "    df = json.load(f)\n",
    "\n",
    "print(len(df))"
   ]
  }
 ],
 "metadata": {
  "kernelspec": {
   "display_name": "Python 3 (ipykernel)",
   "language": "python",
   "name": "python3"
  },
  "language_info": {
   "codemirror_mode": {
    "name": "ipython",
    "version": 3
   },
   "file_extension": ".py",
   "mimetype": "text/x-python",
   "name": "python",
   "nbconvert_exporter": "python",
   "pygments_lexer": "ipython3",
   "version": "3.10.9"
  }
 },
 "nbformat": 4,
 "nbformat_minor": 5
}
